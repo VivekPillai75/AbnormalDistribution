{
 "cells": [
  {
   "cell_type": "code",
   "execution_count": 1,
   "id": "4254af78",
   "metadata": {},
   "outputs": [],
   "source": [
    "import numpy as np\n",
    "import pandas as pd"
   ]
  },
  {
   "cell_type": "code",
   "execution_count": 2,
   "id": "c7138f58",
   "metadata": {},
   "outputs": [
    {
     "data": {
      "text/html": [
       "<div>\n",
       "<style scoped>\n",
       "    .dataframe tbody tr th:only-of-type {\n",
       "        vertical-align: middle;\n",
       "    }\n",
       "\n",
       "    .dataframe tbody tr th {\n",
       "        vertical-align: top;\n",
       "    }\n",
       "\n",
       "    .dataframe thead th {\n",
       "        text-align: right;\n",
       "    }\n",
       "</style>\n",
       "<table border=\"1\" class=\"dataframe\">\n",
       "  <thead>\n",
       "    <tr style=\"text-align: right;\">\n",
       "      <th></th>\n",
       "      <th>ttime</th>\n",
       "      <th>pm1</th>\n",
       "      <th>pm2</th>\n",
       "      <th>pm3</th>\n",
       "      <th>am</th>\n",
       "      <th>sm</th>\n",
       "      <th>st</th>\n",
       "      <th>lum</th>\n",
       "    </tr>\n",
       "  </thead>\n",
       "  <tbody>\n",
       "    <tr>\n",
       "      <th>0</th>\n",
       "      <td>18-07-2022 15:42</td>\n",
       "      <td>3.63</td>\n",
       "      <td>0.0</td>\n",
       "      <td>0.0</td>\n",
       "      <td>3.2</td>\n",
       "      <td>7813</td>\n",
       "      <td>25.65</td>\n",
       "      <td>15001</td>\n",
       "    </tr>\n",
       "    <tr>\n",
       "      <th>1</th>\n",
       "      <td>18-07-2022 15:47</td>\n",
       "      <td>4.19</td>\n",
       "      <td>0.0</td>\n",
       "      <td>0.0</td>\n",
       "      <td>4.8</td>\n",
       "      <td>7692</td>\n",
       "      <td>25.66</td>\n",
       "      <td>13863</td>\n",
       "    </tr>\n",
       "    <tr>\n",
       "      <th>2</th>\n",
       "      <td>18-07-2022 15:52</td>\n",
       "      <td>4.74</td>\n",
       "      <td>0.0</td>\n",
       "      <td>0.0</td>\n",
       "      <td>4.0</td>\n",
       "      <td>7813</td>\n",
       "      <td>25.67</td>\n",
       "      <td>13788</td>\n",
       "    </tr>\n",
       "    <tr>\n",
       "      <th>3</th>\n",
       "      <td>18-07-2022 15:57</td>\n",
       "      <td>5.30</td>\n",
       "      <td>0.0</td>\n",
       "      <td>0.0</td>\n",
       "      <td>4.8</td>\n",
       "      <td>7813</td>\n",
       "      <td>25.68</td>\n",
       "      <td>14383</td>\n",
       "    </tr>\n",
       "    <tr>\n",
       "      <th>4</th>\n",
       "      <td>18-07-2022 16:02</td>\n",
       "      <td>0.55</td>\n",
       "      <td>5.3</td>\n",
       "      <td>5.3</td>\n",
       "      <td>3.2</td>\n",
       "      <td>7813</td>\n",
       "      <td>25.69</td>\n",
       "      <td>14621</td>\n",
       "    </tr>\n",
       "  </tbody>\n",
       "</table>\n",
       "</div>"
      ],
      "text/plain": [
       "              ttime   pm1  pm2  pm3   am    sm     st    lum\n",
       "0  18-07-2022 15:42  3.63  0.0  0.0  3.2  7813  25.65  15001\n",
       "1  18-07-2022 15:47  4.19  0.0  0.0  4.8  7692  25.66  13863\n",
       "2  18-07-2022 15:52  4.74  0.0  0.0  4.0  7813  25.67  13788\n",
       "3  18-07-2022 15:57  5.30  0.0  0.0  4.8  7813  25.68  14383\n",
       "4  18-07-2022 16:02  0.55  5.3  5.3  3.2  7813  25.69  14621"
      ]
     },
     "execution_count": 2,
     "metadata": {},
     "output_type": "execute_result"
    }
   ],
   "source": [
    "df_2= pd.read_csv('user1_data.csv')\n",
    "df_2.head()"
   ]
  },
  {
   "cell_type": "code",
   "execution_count": 3,
   "id": "b97a960a",
   "metadata": {},
   "outputs": [
    {
     "data": {
      "text/plain": [
       "Index(['ttime', 'pm1', 'pm2', 'pm3', 'am', 'sm', 'st', 'lum'], dtype='object')"
      ]
     },
     "execution_count": 3,
     "metadata": {},
     "output_type": "execute_result"
    }
   ],
   "source": [
    "df_2.columns"
   ]
  },
  {
   "cell_type": "code",
   "execution_count": 4,
   "id": "37a38e03",
   "metadata": {},
   "outputs": [],
   "source": [
    "X= df_2[[ 'pm3','am','st', 'lum']]\n",
    "y=df_2['sm']"
   ]
  },
  {
   "cell_type": "code",
   "execution_count": 5,
   "id": "b2b16aa1",
   "metadata": {},
   "outputs": [],
   "source": [
    "from sklearn.model_selection import train_test_split\n",
    "X_train, X_test, y_train, y_test = train_test_split(X, y, test_size = 0.30, random_state = 101)"
   ]
  },
  {
   "cell_type": "code",
   "execution_count": 6,
   "id": "7a576b39",
   "metadata": {},
   "outputs": [
    {
     "data": {
      "text/plain": [
       "RandomForestRegressor()"
      ]
     },
     "execution_count": 6,
     "metadata": {},
     "output_type": "execute_result"
    }
   ],
   "source": [
    "from sklearn.ensemble import RandomForestRegressor\n",
    "rfc = RandomForestRegressor(n_estimators=100)\n",
    "rfc.fit(X_train, y_train)"
   ]
  },
  {
   "cell_type": "code",
   "execution_count": 7,
   "id": "05e0c61f",
   "metadata": {},
   "outputs": [],
   "source": [
    "rfc_pred = rfc.predict(X_test)"
   ]
  },
  {
   "cell_type": "code",
   "execution_count": 8,
   "id": "22d2f131",
   "metadata": {},
   "outputs": [],
   "source": [
    "from sklearn import metrics"
   ]
  },
  {
   "cell_type": "code",
   "execution_count": 9,
   "id": "20ad8ebd",
   "metadata": {},
   "outputs": [
    {
     "data": {
      "text/plain": [
       "64985.329459128436"
      ]
     },
     "execution_count": 9,
     "metadata": {},
     "output_type": "execute_result"
    }
   ],
   "source": [
    "metrics.mean_squared_error(rfc_pred,y_test)"
   ]
  },
  {
   "cell_type": "code",
   "execution_count": 10,
   "id": "57243d55",
   "metadata": {},
   "outputs": [],
   "source": [
    "def squared_error(y_pred,y_train):\n",
    "    return sum((y_pred - y_train) * (y_pred- y_train))"
   ]
  },
  {
   "cell_type": "code",
   "execution_count": 11,
   "id": "6d521d69",
   "metadata": {},
   "outputs": [],
   "source": [
    "from statistics import mean"
   ]
  },
  {
   "cell_type": "code",
   "execution_count": 12,
   "id": "43ca6988",
   "metadata": {},
   "outputs": [],
   "source": [
    "def coefficient_of_determination(y_pred,y_train):\n",
    "    y_mean_line = [mean(y_pred) for y in y_train]\n",
    "    squared_error_regr = squared_error(y_pred, y_train)\n",
    "    squared_error_y_mean = squared_error(y_pred, y_mean_line)\n",
    "    return 1 - squared_error_regr/squared_error_y_mean"
   ]
  },
  {
   "cell_type": "code",
   "execution_count": 13,
   "id": "1297ff0a",
   "metadata": {},
   "outputs": [
    {
     "name": "stdout",
     "output_type": "stream",
     "text": [
      "0.9922407322964184\n"
     ]
    }
   ],
   "source": [
    "r_squared = coefficient_of_determination(rfc_pred,y_test)\n",
    "print(r_squared) #R2 score for user1"
   ]
  },
  {
   "cell_type": "code",
   "execution_count": 14,
   "id": "433e62bc",
   "metadata": {},
   "outputs": [
    {
     "data": {
      "text/plain": [
       "114.52402434774427"
      ]
     },
     "execution_count": 14,
     "metadata": {},
     "output_type": "execute_result"
    }
   ],
   "source": [
    "metrics.mean_absolute_error(rfc_pred,y_test)"
   ]
  },
  {
   "cell_type": "code",
   "execution_count": 15,
   "id": "bb1be514",
   "metadata": {},
   "outputs": [
    {
     "data": {
      "text/plain": [
       "254.92220275826983"
      ]
     },
     "execution_count": 15,
     "metadata": {},
     "output_type": "execute_result"
    }
   ],
   "source": [
    "rmse= np.sqrt(metrics.mean_squared_error(rfc_pred,y_test))\n",
    "rmse"
   ]
  },
  {
   "cell_type": "code",
   "execution_count": 16,
   "id": "b02d52d5",
   "metadata": {},
   "outputs": [],
   "source": [
    "import matplotlib.pyplot as plt"
   ]
  },
  {
   "cell_type": "code",
   "execution_count": 17,
   "id": "994b9050",
   "metadata": {},
   "outputs": [
    {
     "data": {
      "text/plain": [
       "<matplotlib.collections.PathCollection at 0x207ad4dbfd0>"
      ]
     },
     "execution_count": 17,
     "metadata": {},
     "output_type": "execute_result"
    },
    {
     "data": {
      "image/png": "[encoded data removed]",
      "text/plain": [
       "<Figure size 640x480 with 1 Axes>"
      ]
     },
     "metadata": {},
     "output_type": "display_data"
    }
   ],
   "source": [
    "plt.scatter(rfc_pred,y_test)"
   ]
  },
  {
   "cell_type": "code",
   "execution_count": null,
   "id": "a4d929ef",
   "metadata": {},
   "outputs": [],
   "source": []
  }
 ],
 "metadata": {
  "kernelspec": {
   "display_name": "Python 3 (ipykernel)",
   "language": "python",
   "name": "python3"
  },
  "language_info": {
   "codemirror_mode": {
    "name": "ipython",
    "version": 3
   },
   "file_extension": ".py",
   "mimetype": "text/x-python",
   "name": "python",
   "nbconvert_exporter": "python",
   "pygments_lexer": "ipython3",
   "version": "3.10.1"
  }
 },
 "nbformat": 4,
 "nbformat_minor": 5
}
