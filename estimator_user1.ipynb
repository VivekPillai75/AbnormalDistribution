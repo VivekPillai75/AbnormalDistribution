{
 "cells": [
  {
   "cell_type": "code",
   "execution_count": 4,
   "id": "9533c0ae",
   "metadata": {},
   "outputs": [],
   "source": [
    "import pandas as pd\n",
    "import numpy as np\n",
    "\n",
    "from sklearn.model_selection import train_test_split\n",
    "from sklearn.ensemble import RandomForestRegressor\n"
   ]
  },
  {
   "cell_type": "code",
   "execution_count": 5,
   "id": "e405b769",
   "metadata": {},
   "outputs": [
    {
     "data": {
      "text/html": [
       "<div>\n",
       "<style scoped>\n",
       "    .dataframe tbody tr th:only-of-type {\n",
       "        vertical-align: middle;\n",
       "    }\n",
       "\n",
       "    .dataframe tbody tr th {\n",
       "        vertical-align: top;\n",
       "    }\n",
       "\n",
       "    .dataframe thead th {\n",
       "        text-align: right;\n",
       "    }\n",
       "</style>\n",
       "<table border=\"1\" class=\"dataframe\">\n",
       "  <thead>\n",
       "    <tr style=\"text-align: right;\">\n",
       "      <th></th>\n",
       "      <th>ttime</th>\n",
       "      <th>pm1</th>\n",
       "      <th>pm2</th>\n",
       "      <th>pm3</th>\n",
       "      <th>am</th>\n",
       "      <th>sm</th>\n",
       "      <th>st</th>\n",
       "      <th>lum</th>\n",
       "    </tr>\n",
       "  </thead>\n",
       "  <tbody>\n",
       "    <tr>\n",
       "      <th>0</th>\n",
       "      <td>18-07-2022 15:42</td>\n",
       "      <td>3.63</td>\n",
       "      <td>0.0</td>\n",
       "      <td>0.0</td>\n",
       "      <td>3.2</td>\n",
       "      <td>7813</td>\n",
       "      <td>25.65</td>\n",
       "      <td>15001</td>\n",
       "    </tr>\n",
       "    <tr>\n",
       "      <th>1</th>\n",
       "      <td>18-07-2022 15:47</td>\n",
       "      <td>4.19</td>\n",
       "      <td>0.0</td>\n",
       "      <td>0.0</td>\n",
       "      <td>4.8</td>\n",
       "      <td>7692</td>\n",
       "      <td>25.66</td>\n",
       "      <td>13863</td>\n",
       "    </tr>\n",
       "    <tr>\n",
       "      <th>2</th>\n",
       "      <td>18-07-2022 15:52</td>\n",
       "      <td>4.74</td>\n",
       "      <td>0.0</td>\n",
       "      <td>0.0</td>\n",
       "      <td>4.0</td>\n",
       "      <td>7813</td>\n",
       "      <td>25.67</td>\n",
       "      <td>13788</td>\n",
       "    </tr>\n",
       "    <tr>\n",
       "      <th>3</th>\n",
       "      <td>18-07-2022 15:57</td>\n",
       "      <td>5.30</td>\n",
       "      <td>0.0</td>\n",
       "      <td>0.0</td>\n",
       "      <td>4.8</td>\n",
       "      <td>7813</td>\n",
       "      <td>25.68</td>\n",
       "      <td>14383</td>\n",
       "    </tr>\n",
       "    <tr>\n",
       "      <th>4</th>\n",
       "      <td>18-07-2022 16:02</td>\n",
       "      <td>0.55</td>\n",
       "      <td>5.3</td>\n",
       "      <td>5.3</td>\n",
       "      <td>3.2</td>\n",
       "      <td>7813</td>\n",
       "      <td>25.69</td>\n",
       "      <td>14621</td>\n",
       "    </tr>\n",
       "  </tbody>\n",
       "</table>\n",
       "</div>"
      ],
      "text/plain": [
       "              ttime   pm1  pm2  pm3   am    sm     st    lum\n",
       "0  18-07-2022 15:42  3.63  0.0  0.0  3.2  7813  25.65  15001\n",
       "1  18-07-2022 15:47  4.19  0.0  0.0  4.8  7692  25.66  13863\n",
       "2  18-07-2022 15:52  4.74  0.0  0.0  4.0  7813  25.67  13788\n",
       "3  18-07-2022 15:57  5.30  0.0  0.0  4.8  7813  25.68  14383\n",
       "4  18-07-2022 16:02  0.55  5.3  5.3  3.2  7813  25.69  14621"
      ]
     },
     "execution_count": 5,
     "metadata": {},
     "output_type": "execute_result"
    }
   ],
   "source": [
    "df_2= pd.read_csv('user1_data.csv')\n",
    "df_2.head()"
   ]
  },
  {
   "cell_type": "code",
   "execution_count": 3,
   "id": "fc41c11b",
   "metadata": {},
   "outputs": [],
   "source": [
    "X= df_2[['pm3','am','st', 'lum']]\n",
    "y=df_2['sm']"
   ]
  },
  {
   "cell_type": "code",
   "execution_count": 6,
   "id": "d959952d",
   "metadata": {},
   "outputs": [],
   "source": [
    "X_train, X_test, y_train, y_test = train_test_split(X, y, test_size = 0.30, random_state = 101)"
   ]
  },
  {
   "cell_type": "code",
   "execution_count": null,
   "id": "63b1fefe",
   "metadata": {},
   "outputs": [],
   "source": [
    "rfr = RandomForestRegressor(n_estimators=100)\n",
    "rfr.fit(X_train, y_train)\n"
   ]
  },
  {
   "cell_type": "code",
   "execution_count": null,
   "id": "0f7b6057",
   "metadata": {},
   "outputs": [],
   "source": [
    "df = pd.read_csv('file_name.csv') #filename of March-data from user1 in CSV format\n",
    "\n",
    "March_features = df[['pm3','am','st', 'lum']]\n",
    "rfr_pred = rfr.predict(March_features)\n",
    "\n",
    "pred_df = pd.DataFrame({'ttime':df['ttime'], 'pred_sm':rfr_pred})\n",
    "pred_df.to_csv('user1_March_predictions.csv')"
   ]
  }
 ],
 "metadata": {
  "kernelspec": {
   "display_name": "Python 3 (ipykernel)",
   "language": "python",
   "name": "python3"
  },
  "language_info": {
   "codemirror_mode": {
    "name": "ipython",
    "version": 3
   },
   "file_extension": ".py",
   "mimetype": "text/x-python",
   "name": "python",
   "nbconvert_exporter": "python",
   "pygments_lexer": "ipython3",
   "version": "3.10.1"
  }
 },
 "nbformat": 4,
 "nbformat_minor": 5
}
